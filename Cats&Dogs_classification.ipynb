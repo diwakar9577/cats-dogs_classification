{
  "nbformat": 4,
  "nbformat_minor": 0,
  "metadata": {
    "colab": {
      "provenance": []
    },
    "kernelspec": {
      "name": "python3",
      "display_name": "Python 3"
    },
    "language_info": {
      "name": "python"
    }
  },
  "cells": [
    {
      "cell_type": "code",
      "execution_count": 1,
      "metadata": {
        "colab": {
          "base_uri": "https://localhost:8080/"
        },
        "id": "xHfVgFhFdnxf",
        "outputId": "4af68b1e-2fd4-4518-865a-26c7fcacc410"
      },
      "outputs": [
        {
          "output_type": "stream",
          "name": "stdout",
          "text": [
            "Found 557 images belonging to 2 classes.\n",
            "Found 140 images belonging to 2 classes.\n",
            "Epoch 1/10\n",
            "17/17 [==============================] - 124s 7s/step - loss: 0.9016 - accuracy: 0.4590 - val_loss: 0.6927 - val_accuracy: 0.5312\n",
            "Epoch 2/10\n",
            "17/17 [==============================] - 31s 2s/step - loss: 0.6942 - accuracy: 0.4990 - val_loss: 0.6930 - val_accuracy: 0.5156\n",
            "Epoch 3/10\n",
            "17/17 [==============================] - 33s 2s/step - loss: 0.6935 - accuracy: 0.5086 - val_loss: 0.6927 - val_accuracy: 0.5156\n",
            "Epoch 4/10\n",
            "17/17 [==============================] - 29s 2s/step - loss: 0.7104 - accuracy: 0.5371 - val_loss: 0.6962 - val_accuracy: 0.5000\n",
            "Epoch 5/10\n",
            "17/17 [==============================] - 31s 2s/step - loss: 0.6906 - accuracy: 0.5429 - val_loss: 0.6933 - val_accuracy: 0.5078\n",
            "Epoch 6/10\n",
            "17/17 [==============================] - 31s 2s/step - loss: 0.6884 - accuracy: 0.5524 - val_loss: 0.6933 - val_accuracy: 0.5547\n",
            "Epoch 7/10\n",
            "17/17 [==============================] - 30s 2s/step - loss: 0.6835 - accuracy: 0.5543 - val_loss: 0.7086 - val_accuracy: 0.4922\n",
            "Epoch 8/10\n",
            "17/17 [==============================] - 31s 2s/step - loss: 0.6654 - accuracy: 0.6076 - val_loss: 0.6903 - val_accuracy: 0.5469\n",
            "Epoch 9/10\n",
            "17/17 [==============================] - 30s 2s/step - loss: 0.6569 - accuracy: 0.6038 - val_loss: 0.7110 - val_accuracy: 0.5469\n",
            "Epoch 10/10\n",
            "17/17 [==============================] - 31s 2s/step - loss: 0.6553 - accuracy: 0.6019 - val_loss: 0.7512 - val_accuracy: 0.5156\n"
          ]
        },
        {
          "output_type": "stream",
          "name": "stderr",
          "text": [
            "/usr/local/lib/python3.10/dist-packages/keras/src/engine/training.py:3103: UserWarning: You are saving your model as an HDF5 file via `model.save()`. This file format is considered legacy. We recommend using instead the native Keras format, e.g. `model.save('my_model.keras')`.\n",
            "  saving_api.save_model(\n"
          ]
        }
      ],
      "source": [
        "import tensorflow as tf\n",
        "from tensorflow.keras.models import Sequential\n",
        "from tensorflow.keras.layers import Conv2D, MaxPooling2D, Flatten, Dense, Dropout\n",
        "from tensorflow.keras.preprocessing.image import ImageDataGenerator\n",
        "\n",
        "# Define paths to your training and validation data\n",
        "train_dir = '/content/drive/MyDrive/train'\n",
        "validation_dir = '/content/drive/MyDrive/test'\n",
        "\n",
        "# Set parameters\n",
        "img_width, img_height = 150, 150\n",
        "input_shape = (img_width, img_height, 3)\n",
        "epochs = 10\n",
        "batch_size = 32\n",
        "\n",
        "# Data augmentation for training set\n",
        "train_datagen = ImageDataGenerator(\n",
        "    rescale=1. / 255,\n",
        "    shear_range=0.2,\n",
        "    zoom_range=0.2,\n",
        "    horizontal_flip=True\n",
        ")\n",
        "\n",
        "# Rescaling for validation set\n",
        "validation_datagen = ImageDataGenerator(rescale=1. / 255)\n",
        "\n",
        "# Load and augment training data\n",
        "train_generator = train_datagen.flow_from_directory(\n",
        "    train_dir,\n",
        "    target_size=(img_width, img_height),\n",
        "    batch_size=batch_size,\n",
        "    class_mode='binary'\n",
        ")\n",
        "\n",
        "# Load validation data without augmentation\n",
        "validation_generator = validation_datagen.flow_from_directory(\n",
        "    validation_dir,\n",
        "    target_size=(img_width, img_height),\n",
        "    batch_size=batch_size,\n",
        "    class_mode='binary'\n",
        ")\n",
        "\n",
        "# Build the model\n",
        "model = Sequential()\n",
        "model.add(Conv2D(32, (3, 3), input_shape=input_shape, activation='relu'))\n",
        "model.add(MaxPooling2D(pool_size=(2, 2)))\n",
        "model.add(Conv2D(64, (3, 3), activation='relu'))\n",
        "model.add(MaxPooling2D(pool_size=(2, 2)))\n",
        "model.add(Conv2D(128, (3, 3), activation='relu'))\n",
        "model.add(MaxPooling2D(pool_size=(2, 2)))\n",
        "model.add(Flatten())\n",
        "model.add(Dense(128, activation='relu'))\n",
        "model.add(Dropout(0.5))\n",
        "model.add(Dense(1, activation='sigmoid'))\n",
        "\n",
        "# Compile the model\n",
        "model.compile(optimizer='adam', loss='binary_crossentropy', metrics=['accuracy'])\n",
        "\n",
        "# Train the model\n",
        "model.fit(\n",
        "    train_generator,\n",
        "    steps_per_epoch=train_generator.samples // batch_size,\n",
        "    epochs=epochs,\n",
        "    validation_data=validation_generator,\n",
        "    validation_steps=validation_generator.samples // batch_size\n",
        ")\n",
        "\n",
        "# Save the model\n",
        "model.save('cat_dog_classifier.h5')\n"
      ]
    }
  ]
}